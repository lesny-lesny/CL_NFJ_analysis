{
 "cells": [
  {
   "cell_type": "code",
   "execution_count": 26,
   "metadata": {},
   "outputs": [],
   "source": [
    "from glob import glob\n",
    "import pandas as pd\n",
    "\n",
    "csv_lst = glob(r\"..\\data\\interim\\*.csv\")\n",
    "csv_lst\n",
    "\n",
    "dfs = []\n",
    "for csv in csv_lst:\n",
    "    dfs.append(pd.read_csv(csv, sep=';', encoding=\"UTF-8\"))\n",
    "         \n",
    "\n",
    "df = pd.concat(dfs, ignore_index=True)"
   ]
  },
  {
   "cell_type": "code",
   "execution_count": 27,
   "metadata": {},
   "outputs": [
    {
     "data": {
      "text/plain": [
       "array([' Kraków', ' Lublin', ' Warszawa', ' Gliwice', 'Zdalna',\n",
       "       ' Katowice', ' warszawa', ' Warsaw', ' Budapest'], dtype=object)"
      ]
     },
     "execution_count": 27,
     "metadata": {},
     "output_type": "execute_result"
    }
   ],
   "source": [
    "df['location_city'].unique()"
   ]
  },
  {
   "cell_type": "code",
   "execution_count": 28,
   "metadata": {},
   "outputs": [],
   "source": [
    "df.loc[df['location_city'] == ' warszawa', 'location_city'] = ' Warszawa'\n",
    "df.loc[df['location_city'] == ' Warsaw', 'location_city'] = ' Warszawa'"
   ]
  },
  {
   "cell_type": "code",
   "execution_count": 33,
   "metadata": {},
   "outputs": [],
   "source": [
    "df = df.loc[df['salary_low'] != df['salary_high']].copy()\n",
    "\n",
    "df['salary_low'] = df['salary_low'].astype(int)\n",
    "df['salary_high'] = df['salary_high'].astype(int)\n",
    "\n",
    "df['salary_avg'] = (df['salary_low'] + df['salary_high']) / 2"
   ]
  },
  {
   "cell_type": "code",
   "execution_count": 30,
   "metadata": {},
   "outputs": [],
   "source": [
    "df['name'] = df['name'].str.lower()"
   ]
  },
  {
   "cell_type": "code",
   "execution_count": 31,
   "metadata": {},
   "outputs": [],
   "source": [
    "df['is_senior'] = 0 \n",
    "df['is_senior'] = df['name'].apply(lambda x: int(x.find('senior') >= 0))"
   ]
  },
  {
   "cell_type": "code",
   "execution_count": 32,
   "metadata": {},
   "outputs": [],
   "source": [
    "df.to_csv('../data/processed/job_offers.csv', sep=';', encoding='UTF-8', index=False)"
   ]
  },
  {
   "cell_type": "code",
   "execution_count": null,
   "metadata": {},
   "outputs": [],
   "source": []
  }
 ],
 "metadata": {
  "kernelspec": {
   "display_name": "Python 3",
   "language": "python",
   "name": "python3"
  },
  "language_info": {
   "codemirror_mode": {
    "name": "ipython",
    "version": 3
   },
   "file_extension": ".py",
   "mimetype": "text/x-python",
   "name": "python",
   "nbconvert_exporter": "python",
   "pygments_lexer": "ipython3",
   "version": "3.8.5"
  }
 },
 "nbformat": 4,
 "nbformat_minor": 4
}

{
 "cells": [
  {
   "cell_type": "code",
   "execution_count": 5,
   "metadata": {},
   "outputs": [],
   "source": [
    "def scraper(query):\n",
    "    from selenium.webdriver import Firefox\n",
    "    from bs4 import BeautifulSoup\n",
    "    \n",
    "\n",
    "    browser = Firefox(executable_path='../drivers/geckodriver.exe')\n",
    "    url_main = \"https://nofluffjobs.com/pl/jobs?criteria=\"\n",
    "    url_query = query.replace(\" \", \"%20\")\n",
    "    url = f\"{url_main}{url_query}&page=1\"\n",
    "    browser.get(url)\n",
    "\n",
    "    content = browser.page_source\n",
    "    with open(f\"../data/raw/{query}.html\", \"w\", encoding=\"UTF-8\") as f:\n",
    "        f.write(content)\n",
    "\n",
    "    pages = browser.find_elements_by_class_name(\"page-link\")\n",
    "    pages_lst = []\n",
    "    for page in pages:\n",
    "        p = page.text\n",
    "        if p.isdigit():\n",
    "            pages_lst.append(p)\n",
    "        else:\n",
    "            continue\n",
    "    if pages_lst:\n",
    "        pages_lst.remove(\"1\")\n",
    "        for subpage in pages_lst:\n",
    "            url = f\"{url_main}{url_query}&page={subpage}\"\n",
    "            browser.get(url)\n",
    "            content = browser.page_source\n",
    "            with open(f\"../data/raw/{query}_{subpage}.html\", \"w\", encoding=\"UTF-8\") as f:\n",
    "                f.write(content)\n",
    "            browser.implicitly_wait(5)\n",
    "\n",
    "\n",
    "    browser.quit()"
   ]
  },
  {
   "cell_type": "code",
   "execution_count": 6,
   "metadata": {},
   "outputs": [],
   "source": [
    "scraper(\"\")"
   ]
  },
  {
   "cell_type": "code",
   "execution_count": null,
   "metadata": {},
   "outputs": [],
   "source": []
  }
 ],
 "metadata": {
  "kernelspec": {
   "display_name": "Python 3",
   "language": "python",
   "name": "python3"
  },
  "language_info": {
   "codemirror_mode": {
    "name": "ipython",
    "version": 3
   },
   "file_extension": ".py",
   "mimetype": "text/x-python",
   "name": "python",
   "nbconvert_exporter": "python",
   "pygments_lexer": "ipython3",
   "version": "3.8.5"
  }
 },
 "nbformat": 4,
 "nbformat_minor": 4
}

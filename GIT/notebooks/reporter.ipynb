{
 "cells": [
  {
   "cell_type": "code",
   "execution_count": 14,
   "metadata": {},
   "outputs": [],
   "source": [
    "import pandas as pd\n",
    "\n",
    "\n",
    "df_raw = pd.read_csv(r\"..\\data\\processed\\job_offers.csv\", encoding=\"UTF-8\", sep=';')"
   ]
  },
  {
   "cell_type": "code",
   "execution_count": 21,
   "metadata": {},
   "outputs": [
    {
     "data": {
      "text/html": [
       "<div>\n",
       "<style scoped>\n",
       "    .dataframe tbody tr th:only-of-type {\n",
       "        vertical-align: middle;\n",
       "    }\n",
       "\n",
       "    .dataframe tbody tr th {\n",
       "        vertical-align: top;\n",
       "    }\n",
       "\n",
       "    .dataframe thead th {\n",
       "        text-align: right;\n",
       "    }\n",
       "</style>\n",
       "<table border=\"1\" class=\"dataframe\">\n",
       "  <thead>\n",
       "    <tr style=\"text-align: right;\">\n",
       "      <th></th>\n",
       "      <th>name</th>\n",
       "      <th>company</th>\n",
       "      <th>technology</th>\n",
       "      <th>job</th>\n",
       "      <th>location_city</th>\n",
       "      <th>location_coutry</th>\n",
       "      <th>salary_low</th>\n",
       "      <th>salary_high</th>\n",
       "      <th>salary_currency</th>\n",
       "      <th>salary_avg</th>\n",
       "      <th>is_senior</th>\n",
       "    </tr>\n",
       "  </thead>\n",
       "  <tbody>\n",
       "    <tr>\n",
       "      <th>0</th>\n",
       "      <td>quality assurance engineer/data analyst</td>\n",
       "      <td>Link Group Sp. z o. o.</td>\n",
       "      <td>sql</td>\n",
       "      <td>data analyst</td>\n",
       "      <td>Kraków</td>\n",
       "      <td>POL</td>\n",
       "      <td>12000</td>\n",
       "      <td>16000</td>\n",
       "      <td>PLN</td>\n",
       "      <td>14000.0</td>\n",
       "      <td>0</td>\n",
       "    </tr>\n",
       "    <tr>\n",
       "      <th>1</th>\n",
       "      <td>data analyst</td>\n",
       "      <td>PHLEXGLOBAL POLAND SP Z.O.O</td>\n",
       "      <td>NaN</td>\n",
       "      <td>data analyst</td>\n",
       "      <td>Lublin</td>\n",
       "      <td>POL</td>\n",
       "      <td>5000</td>\n",
       "      <td>7000</td>\n",
       "      <td>PLN</td>\n",
       "      <td>6000.0</td>\n",
       "      <td>0</td>\n",
       "    </tr>\n",
       "    <tr>\n",
       "      <th>2</th>\n",
       "      <td>data scientist</td>\n",
       "      <td>Samba TV</td>\n",
       "      <td>python</td>\n",
       "      <td>data analyst</td>\n",
       "      <td>Warszawa</td>\n",
       "      <td>POL</td>\n",
       "      <td>10000</td>\n",
       "      <td>16500</td>\n",
       "      <td>PLN</td>\n",
       "      <td>13250.0</td>\n",
       "      <td>0</td>\n",
       "    </tr>\n",
       "    <tr>\n",
       "      <th>3</th>\n",
       "      <td>data analyst (credit risk)</td>\n",
       "      <td>AVENGA</td>\n",
       "      <td>NaN</td>\n",
       "      <td>data analyst</td>\n",
       "      <td>Warszawa</td>\n",
       "      <td>POL</td>\n",
       "      <td>5000</td>\n",
       "      <td>9000</td>\n",
       "      <td>PLN</td>\n",
       "      <td>7000.0</td>\n",
       "      <td>0</td>\n",
       "    </tr>\n",
       "    <tr>\n",
       "      <th>4</th>\n",
       "      <td>senior product manager</td>\n",
       "      <td>co.brick</td>\n",
       "      <td>NaN</td>\n",
       "      <td>data analyst</td>\n",
       "      <td>Gliwice</td>\n",
       "      <td>POL</td>\n",
       "      <td>12000</td>\n",
       "      <td>20000</td>\n",
       "      <td>PLN</td>\n",
       "      <td>16000.0</td>\n",
       "      <td>1</td>\n",
       "    </tr>\n",
       "  </tbody>\n",
       "</table>\n",
       "</div>"
      ],
      "text/plain": [
       "                                      name                      company  \\\n",
       "0  quality assurance engineer/data analyst       Link Group Sp. z o. o.   \n",
       "1                             data analyst  PHLEXGLOBAL POLAND SP Z.O.O   \n",
       "2                           data scientist                     Samba TV   \n",
       "3               data analyst (credit risk)                       AVENGA   \n",
       "4                   senior product manager                     co.brick   \n",
       "\n",
       "  technology           job location_city location_coutry  salary_low  \\\n",
       "0        sql  data analyst        Kraków             POL       12000   \n",
       "1        NaN  data analyst        Lublin             POL        5000   \n",
       "2     python  data analyst      Warszawa             POL       10000   \n",
       "3        NaN  data analyst      Warszawa             POL        5000   \n",
       "4        NaN  data analyst       Gliwice             POL       12000   \n",
       "\n",
       "   salary_high salary_currency  salary_avg  is_senior  \n",
       "0        16000            PLN      14000.0          0  \n",
       "1         7000            PLN       6000.0          0  \n",
       "2        16500            PLN      13250.0          0  \n",
       "3         9000            PLN       7000.0          0  \n",
       "4        20000            PLN      16000.0          1  "
      ]
     },
     "execution_count": 21,
     "metadata": {},
     "output_type": "execute_result"
    }
   ],
   "source": [
    "df_raw.head()"
   ]
  },
  {
   "cell_type": "code",
   "execution_count": 16,
   "metadata": {},
   "outputs": [],
   "source": [
    "df = df_raw.copy()"
   ]
  },
  {
   "cell_type": "code",
   "execution_count": 17,
   "metadata": {},
   "outputs": [
    {
     "data": {
      "text/plain": [
       "job\n",
       "data analyst      125\n",
       "data engeenier     12\n",
       "data scientist     14\n",
       "dtype: int64"
      ]
     },
     "execution_count": 17,
     "metadata": {},
     "output_type": "execute_result"
    }
   ],
   "source": [
    "df.groupby(by=[\"job\"]).size()"
   ]
  },
  {
   "cell_type": "code",
   "execution_count": 21,
   "metadata": {},
   "outputs": [
    {
     "name": "stdout",
     "output_type": "stream",
     "text": [
      "<pandas.core.groupby.generic.SeriesGroupBy object at 0x0000021949CC45B0>\n"
     ]
    }
   ],
   "source": [
    "df.groupby(by=[\"job\"])[\"salary_avg\"]"
   ]
  },
  {
   "cell_type": "code",
   "execution_count": 18,
   "metadata": {},
   "outputs": [
    {
     "data": {
      "text/plain": [
       "location_city\n",
       " Budapest     7\n",
       " Gliwice      4\n",
       " Katowice     4\n",
       " Kraków      10\n",
       " Lublin       4\n",
       " Warszawa    57\n",
       "Zdalna       65\n",
       "dtype: int64"
      ]
     },
     "execution_count": 18,
     "metadata": {},
     "output_type": "execute_result"
    }
   ],
   "source": [
    "df.groupby(by=[\"location_city\"]).size()"
   ]
  },
  {
   "cell_type": "code",
   "execution_count": 19,
   "metadata": {},
   "outputs": [
    {
     "data": {
      "text/html": [
       "<div>\n",
       "<style scoped>\n",
       "    .dataframe tbody tr th:only-of-type {\n",
       "        vertical-align: middle;\n",
       "    }\n",
       "\n",
       "    .dataframe tbody tr th {\n",
       "        vertical-align: top;\n",
       "    }\n",
       "\n",
       "    .dataframe thead th {\n",
       "        text-align: right;\n",
       "    }\n",
       "</style>\n",
       "<table border=\"1\" class=\"dataframe\">\n",
       "  <thead>\n",
       "    <tr style=\"text-align: right;\">\n",
       "      <th></th>\n",
       "      <th></th>\n",
       "      <th>mean</th>\n",
       "      <th>min</th>\n",
       "      <th>max</th>\n",
       "    </tr>\n",
       "    <tr>\n",
       "      <th>job</th>\n",
       "      <th>is_senior</th>\n",
       "      <th></th>\n",
       "      <th></th>\n",
       "      <th></th>\n",
       "    </tr>\n",
       "  </thead>\n",
       "  <tbody>\n",
       "    <tr>\n",
       "      <th rowspan=\"2\" valign=\"top\">data analyst</th>\n",
       "      <th>0</th>\n",
       "      <td>11951.650442</td>\n",
       "      <td>2800.0</td>\n",
       "      <td>26500.0</td>\n",
       "    </tr>\n",
       "    <tr>\n",
       "      <th>1</th>\n",
       "      <td>16826.666667</td>\n",
       "      <td>16000.0</td>\n",
       "      <td>18480.0</td>\n",
       "    </tr>\n",
       "    <tr>\n",
       "      <th rowspan=\"2\" valign=\"top\">data engeenier</th>\n",
       "      <th>0</th>\n",
       "      <td>15696.000000</td>\n",
       "      <td>10500.0</td>\n",
       "      <td>19500.0</td>\n",
       "    </tr>\n",
       "    <tr>\n",
       "      <th>1</th>\n",
       "      <td>29161.000000</td>\n",
       "      <td>29161.0</td>\n",
       "      <td>29161.0</td>\n",
       "    </tr>\n",
       "    <tr>\n",
       "      <th rowspan=\"2\" valign=\"top\">data scientist</th>\n",
       "      <th>0</th>\n",
       "      <td>16152.875000</td>\n",
       "      <td>11500.0</td>\n",
       "      <td>23000.0</td>\n",
       "    </tr>\n",
       "    <tr>\n",
       "      <th>1</th>\n",
       "      <td>22510.000000</td>\n",
       "      <td>21500.0</td>\n",
       "      <td>23520.0</td>\n",
       "    </tr>\n",
       "  </tbody>\n",
       "</table>\n",
       "</div>"
      ],
      "text/plain": [
       "                                  mean      min      max\n",
       "job            is_senior                                \n",
       "data analyst   0          11951.650442   2800.0  26500.0\n",
       "               1          16826.666667  16000.0  18480.0\n",
       "data engeenier 0          15696.000000  10500.0  19500.0\n",
       "               1          29161.000000  29161.0  29161.0\n",
       "data scientist 0          16152.875000  11500.0  23000.0\n",
       "               1          22510.000000  21500.0  23520.0"
      ]
     },
     "execution_count": 19,
     "metadata": {},
     "output_type": "execute_result"
    }
   ],
   "source": [
    "df.groupby(by=[\"job\", \"is_senior\"])[\"salary_avg\"].agg([\"mean\", \"min\", \"max\"])"
   ]
  },
  {
   "cell_type": "code",
   "execution_count": 20,
   "metadata": {},
   "outputs": [
    {
     "data": {
      "text/html": [
       "<div>\n",
       "<style scoped>\n",
       "    .dataframe tbody tr th:only-of-type {\n",
       "        vertical-align: middle;\n",
       "    }\n",
       "\n",
       "    .dataframe tbody tr th {\n",
       "        vertical-align: top;\n",
       "    }\n",
       "\n",
       "    .dataframe thead tr th {\n",
       "        text-align: left;\n",
       "    }\n",
       "\n",
       "    .dataframe thead tr:last-of-type th {\n",
       "        text-align: right;\n",
       "    }\n",
       "</style>\n",
       "<table border=\"1\" class=\"dataframe\">\n",
       "  <thead>\n",
       "    <tr>\n",
       "      <th></th>\n",
       "      <th colspan=\"7\" halign=\"left\">salary_low</th>\n",
       "    </tr>\n",
       "    <tr>\n",
       "      <th>location_city</th>\n",
       "      <th>Budapest</th>\n",
       "      <th>Gliwice</th>\n",
       "      <th>Katowice</th>\n",
       "      <th>Kraków</th>\n",
       "      <th>Lublin</th>\n",
       "      <th>Warszawa</th>\n",
       "      <th>Zdalna</th>\n",
       "    </tr>\n",
       "    <tr>\n",
       "      <th>job</th>\n",
       "      <th></th>\n",
       "      <th></th>\n",
       "      <th></th>\n",
       "      <th></th>\n",
       "      <th></th>\n",
       "      <th></th>\n",
       "      <th></th>\n",
       "    </tr>\n",
       "  </thead>\n",
       "  <tbody>\n",
       "    <tr>\n",
       "      <th>data analyst</th>\n",
       "      <td>7596.0</td>\n",
       "      <td>12000.0</td>\n",
       "      <td>14000.0</td>\n",
       "      <td>2600.0</td>\n",
       "      <td>5000.0</td>\n",
       "      <td>5000.0</td>\n",
       "      <td>5000.0</td>\n",
       "    </tr>\n",
       "    <tr>\n",
       "      <th>data engeenier</th>\n",
       "      <td>NaN</td>\n",
       "      <td>NaN</td>\n",
       "      <td>NaN</td>\n",
       "      <td>10000.0</td>\n",
       "      <td>NaN</td>\n",
       "      <td>9000.0</td>\n",
       "      <td>15000.0</td>\n",
       "    </tr>\n",
       "    <tr>\n",
       "      <th>data scientist</th>\n",
       "      <td>13927.0</td>\n",
       "      <td>NaN</td>\n",
       "      <td>NaN</td>\n",
       "      <td>18000.0</td>\n",
       "      <td>NaN</td>\n",
       "      <td>10000.0</td>\n",
       "      <td>8000.0</td>\n",
       "    </tr>\n",
       "  </tbody>\n",
       "</table>\n",
       "</div>"
      ],
      "text/plain": [
       "               salary_low                                                \\\n",
       "location_city    Budapest  Gliwice  Katowice   Kraków  Lublin  Warszawa   \n",
       "job                                                                       \n",
       "data analyst       7596.0  12000.0   14000.0   2600.0  5000.0    5000.0   \n",
       "data engeenier        NaN      NaN       NaN  10000.0     NaN    9000.0   \n",
       "data scientist    13927.0      NaN       NaN  18000.0     NaN   10000.0   \n",
       "\n",
       "                         \n",
       "location_city    Zdalna  \n",
       "job                      \n",
       "data analyst     5000.0  \n",
       "data engeenier  15000.0  \n",
       "data scientist   8000.0  "
      ]
     },
     "execution_count": 20,
     "metadata": {},
     "output_type": "execute_result"
    }
   ],
   "source": [
    "pd.pivot_table(\n",
    "    data=df,\n",
    "    index=['job'],\n",
    "    columns=['location_city'],\n",
    "    values=['salary_low'],\n",
    "    aggfunc=\"min\"\n",
    ")"
   ]
  },
  {
   "cell_type": "code",
   "execution_count": 22,
   "metadata": {},
   "outputs": [
    {
     "data": {
      "text/plain": [
       "job\n",
       "data analyst       2800.0\n",
       "data engeenier    10500.0\n",
       "data scientist    11500.0\n",
       "Name: salary_avg, dtype: float64"
      ]
     },
     "execution_count": 22,
     "metadata": {},
     "output_type": "execute_result"
    }
   ],
   "source": [
    "df.groupby(by=\"job\")[\"salary_avg\"].min()"
   ]
  },
  {
   "cell_type": "code",
   "execution_count": null,
   "metadata": {},
   "outputs": [],
   "source": []
  }
 ],
 "metadata": {
  "kernelspec": {
   "display_name": "Python 3",
   "language": "python",
   "name": "python3"
  },
  "language_info": {
   "codemirror_mode": {
    "name": "ipython",
    "version": 3
   },
   "file_extension": ".py",
   "mimetype": "text/x-python",
   "name": "python",
   "nbconvert_exporter": "python",
   "pygments_lexer": "ipython3",
   "version": "3.8.5"
  }
 },
 "nbformat": 4,
 "nbformat_minor": 4
}
